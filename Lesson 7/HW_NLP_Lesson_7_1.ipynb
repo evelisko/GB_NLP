{
 "metadata": {
  "language_info": {
   "codemirror_mode": {
    "name": "ipython",
    "version": 3
   },
   "file_extension": ".py",
   "mimetype": "text/x-python",
   "name": "python",
   "nbconvert_exporter": "python",
   "pygments_lexer": "ipython3",
   "version": "3.7.11"
  },
  "orig_nbformat": 4,
  "kernelspec": {
   "name": "python3",
   "display_name": "Python 3.7.11 64-bit ('deeppavlov_env': conda)"
  },
  "interpreter": {
   "hash": "5331902c2ae29ddc0e99dbf5873f636b999b11fa6a0c261c517ecf54ceaf1dcc"
  }
 },
 "nbformat": 4,
 "nbformat_minor": 2,
 "cells": [
  {
   "cell_type": "markdown",
   "source": [
    "### Урок 7. Сверточные нейронные сети для анализа текста\n",
    "\n",
    "Задание\n",
    "Берем отызывы за лето (из архива с материалами или предыдущего занятия)\n",
    "\n",
    "1.  Учим conv сеть для классификации\n",
    "2.  Рассмотреть 2-а варианта сеточек<br>\n",
    "    2.1 Инициализировать tf.keras.layers.Embedding предобученными векторами взять к примеру с https://rusvectores.org/ru/<br>\n",
    "    2.2 Инициализировать слой tf.keras.layers.Embedding по умолчанию (ну то есть вам ничего не делать с весами)<br>\n",
    "\n",
    "Сравнить две архитектуры с предобученными весами и когда tf.keras.layers.Embedding обучается сразу со всей сеточкой, что получилось лучше"
   ],
   "metadata": {}
  },
  {
   "cell_type": "code",
   "execution_count": 2,
   "source": [
    "# Затянуть датафреймы.\n",
    "\n",
    "import os\n",
    "import pandas as pd"
   ],
   "outputs": [],
   "metadata": {}
  },
  {
   "cell_type": "code",
   "execution_count": 3,
   "source": [
    "# !pip install xlrd"
   ],
   "outputs": [],
   "metadata": {}
  },
  {
   "cell_type": "code",
   "execution_count": 4,
   "source": [
    "df = pd.read_excel('отзывы за лето.xls')"
   ],
   "outputs": [],
   "metadata": {}
  },
  {
   "cell_type": "code",
   "execution_count": 5,
   "source": [
    "df.head()"
   ],
   "outputs": [
    {
     "output_type": "execute_result",
     "data": {
      "text/html": [
       "<div>\n",
       "<style scoped>\n",
       "    .dataframe tbody tr th:only-of-type {\n",
       "        vertical-align: middle;\n",
       "    }\n",
       "\n",
       "    .dataframe tbody tr th {\n",
       "        vertical-align: top;\n",
       "    }\n",
       "\n",
       "    .dataframe thead th {\n",
       "        text-align: right;\n",
       "    }\n",
       "</style>\n",
       "<table border=\"1\" class=\"dataframe\">\n",
       "  <thead>\n",
       "    <tr style=\"text-align: right;\">\n",
       "      <th></th>\n",
       "      <th>Rating</th>\n",
       "      <th>Content</th>\n",
       "      <th>Date</th>\n",
       "    </tr>\n",
       "  </thead>\n",
       "  <tbody>\n",
       "    <tr>\n",
       "      <th>0</th>\n",
       "      <td>5</td>\n",
       "      <td>It just works!</td>\n",
       "      <td>2017-08-14</td>\n",
       "    </tr>\n",
       "    <tr>\n",
       "      <th>1</th>\n",
       "      <td>4</td>\n",
       "      <td>В целом удобноное приложение...из минусов хотя...</td>\n",
       "      <td>2017-08-14</td>\n",
       "    </tr>\n",
       "    <tr>\n",
       "      <th>2</th>\n",
       "      <td>5</td>\n",
       "      <td>Отлично все</td>\n",
       "      <td>2017-08-14</td>\n",
       "    </tr>\n",
       "    <tr>\n",
       "      <th>3</th>\n",
       "      <td>5</td>\n",
       "      <td>Стал зависать на 1% работы антивируса. Дальше ...</td>\n",
       "      <td>2017-08-14</td>\n",
       "    </tr>\n",
       "    <tr>\n",
       "      <th>4</th>\n",
       "      <td>5</td>\n",
       "      <td>Очень удобно, работает быстро.</td>\n",
       "      <td>2017-08-14</td>\n",
       "    </tr>\n",
       "  </tbody>\n",
       "</table>\n",
       "</div>"
      ],
      "text/plain": [
       "   Rating                                            Content        Date\n",
       "0       5                                     It just works!  2017-08-14\n",
       "1       4  В целом удобноное приложение...из минусов хотя...  2017-08-14\n",
       "2       5                                        Отлично все  2017-08-14\n",
       "3       5  Стал зависать на 1% работы антивируса. Дальше ...  2017-08-14\n",
       "4       5                     Очень удобно, работает быстро.  2017-08-14"
      ]
     },
     "metadata": {},
     "execution_count": 5
    }
   ],
   "metadata": {}
  },
  {
   "cell_type": "code",
   "execution_count": 6,
   "source": [
    "df = df[['Rating','Content']]\n",
    "df"
   ],
   "outputs": [
    {
     "output_type": "execute_result",
     "data": {
      "text/html": [
       "<div>\n",
       "<style scoped>\n",
       "    .dataframe tbody tr th:only-of-type {\n",
       "        vertical-align: middle;\n",
       "    }\n",
       "\n",
       "    .dataframe tbody tr th {\n",
       "        vertical-align: top;\n",
       "    }\n",
       "\n",
       "    .dataframe thead th {\n",
       "        text-align: right;\n",
       "    }\n",
       "</style>\n",
       "<table border=\"1\" class=\"dataframe\">\n",
       "  <thead>\n",
       "    <tr style=\"text-align: right;\">\n",
       "      <th></th>\n",
       "      <th>Rating</th>\n",
       "      <th>Content</th>\n",
       "    </tr>\n",
       "  </thead>\n",
       "  <tbody>\n",
       "    <tr>\n",
       "      <th>0</th>\n",
       "      <td>5</td>\n",
       "      <td>It just works!</td>\n",
       "    </tr>\n",
       "    <tr>\n",
       "      <th>1</th>\n",
       "      <td>4</td>\n",
       "      <td>В целом удобноное приложение...из минусов хотя...</td>\n",
       "    </tr>\n",
       "    <tr>\n",
       "      <th>2</th>\n",
       "      <td>5</td>\n",
       "      <td>Отлично все</td>\n",
       "    </tr>\n",
       "    <tr>\n",
       "      <th>3</th>\n",
       "      <td>5</td>\n",
       "      <td>Стал зависать на 1% работы антивируса. Дальше ...</td>\n",
       "    </tr>\n",
       "    <tr>\n",
       "      <th>4</th>\n",
       "      <td>5</td>\n",
       "      <td>Очень удобно, работает быстро.</td>\n",
       "    </tr>\n",
       "    <tr>\n",
       "      <th>...</th>\n",
       "      <td>...</td>\n",
       "      <td>...</td>\n",
       "    </tr>\n",
       "    <tr>\n",
       "      <th>20654</th>\n",
       "      <td>1</td>\n",
       "      <td>Ну и шляпа,с роот правами бесполезная прога,ра...</td>\n",
       "    </tr>\n",
       "    <tr>\n",
       "      <th>20655</th>\n",
       "      <td>5</td>\n",
       "      <td>Ок</td>\n",
       "    </tr>\n",
       "    <tr>\n",
       "      <th>20656</th>\n",
       "      <td>4</td>\n",
       "      <td>Доволен</td>\n",
       "    </tr>\n",
       "    <tr>\n",
       "      <th>20657</th>\n",
       "      <td>1</td>\n",
       "      <td>Песопаснасть, рут ни нужын</td>\n",
       "    </tr>\n",
       "    <tr>\n",
       "      <th>20658</th>\n",
       "      <td>5</td>\n",
       "      <td>Сбербанк бомбовая компания на сегодняшний день...</td>\n",
       "    </tr>\n",
       "  </tbody>\n",
       "</table>\n",
       "<p>20659 rows × 2 columns</p>\n",
       "</div>"
      ],
      "text/plain": [
       "       Rating                                            Content\n",
       "0           5                                     It just works!\n",
       "1           4  В целом удобноное приложение...из минусов хотя...\n",
       "2           5                                        Отлично все\n",
       "3           5  Стал зависать на 1% работы антивируса. Дальше ...\n",
       "4           5                     Очень удобно, работает быстро.\n",
       "...       ...                                                ...\n",
       "20654       1  Ну и шляпа,с роот правами бесполезная прога,ра...\n",
       "20655       5                                                 Ок\n",
       "20656       4                                            Доволен\n",
       "20657       1                         Песопаснасть, рут ни нужын\n",
       "20658       5  Сбербанк бомбовая компания на сегодняшний день...\n",
       "\n",
       "[20659 rows x 2 columns]"
      ]
     },
     "metadata": {},
     "execution_count": 6
    }
   ],
   "metadata": {}
  },
  {
   "cell_type": "code",
   "execution_count": 7,
   "source": [
    "df['Rating'].value_counts()"
   ],
   "outputs": [
    {
     "output_type": "execute_result",
     "data": {
      "text/plain": [
       "5    14586\n",
       "1     2276\n",
       "4     2138\n",
       "3      911\n",
       "2      748\n",
       "Name: Rating, dtype: int64"
      ]
     },
     "metadata": {},
     "execution_count": 7
    }
   ],
   "metadata": {}
  },
  {
   "cell_type": "markdown",
   "source": [
    "Установи порог отзывов 3 бала. если значение выше порога отзыв положительный. Если ниже- отрицательный."
   ],
   "metadata": {}
  },
  {
   "cell_type": "code",
   "execution_count": 8,
   "source": [
    "df['Rating'] = df['Rating'].apply(lambda x: 1 if x > 3 else 0)"
   ],
   "outputs": [],
   "metadata": {}
  },
  {
   "cell_type": "code",
   "execution_count": 9,
   "source": [
    "df['Rating'].value_counts()"
   ],
   "outputs": [
    {
     "output_type": "execute_result",
     "data": {
      "text/plain": [
       "1    16724\n",
       "0     3935\n",
       "Name: Rating, dtype: int64"
      ]
     },
     "metadata": {},
     "execution_count": 9
    }
   ],
   "metadata": {}
  },
  {
   "cell_type": "markdown",
   "source": [
    "### Выполнить предобработку текста."
   ],
   "metadata": {}
  },
  {
   "cell_type": "code",
   "execution_count": 10,
   "source": [
    "max_words = 1000\n",
    "max_len = 100\n",
    "num_classes = 1\n",
    "\n",
    "# Training\n",
    "epochs = 20\n",
    "batch_size = 512\n",
    "print_batch_n = 100"
   ],
   "outputs": [],
   "metadata": {}
  },
  {
   "cell_type": "markdown",
   "source": [
    "Обучить сверточную нейронную сеть."
   ],
   "metadata": {}
  },
  {
   "cell_type": "markdown",
   "source": [
    "Как в прошлом занятии."
   ],
   "metadata": {}
  },
  {
   "cell_type": "code",
   "execution_count": 11,
   "source": [
    "# !pip install stop_words"
   ],
   "outputs": [],
   "metadata": {}
  },
  {
   "cell_type": "code",
   "execution_count": 12,
   "source": [
    "from string import punctuation\n",
    "from stop_words import get_stop_words\n",
    "from pymorphy2 import MorphAnalyzer\n",
    "import re\n",
    "from sklearn.model_selection import train_test_split\n",
    "from utils import apostrophe_dict, emoticon_dict, short_word_dict  # см. файл utils.py\n"
   ],
   "outputs": [],
   "metadata": {}
  },
  {
   "cell_type": "code",
   "execution_count": 13,
   "source": [
    "# Теперь повторим это для всех записей.\n",
    "def replase_words(text,dict_): \n",
    "    output = ''\n",
    "    for word in text.split(' '): # не будем делить текст на части будем искать подстроку в строке. это касается только смайликов.\n",
    "        word = word.strip()\n",
    "        if word in dict_.keys(): \n",
    "            output += ' ' + dict_[word]\n",
    "        else:\n",
    "            output += ' ' + word\n",
    "    return output"
   ],
   "outputs": [],
   "metadata": {}
  },
  {
   "cell_type": "code",
   "execution_count": 14,
   "source": [
    "df['Content_с'] = df['Content']"
   ],
   "outputs": [],
   "metadata": {}
  },
  {
   "cell_type": "code",
   "execution_count": 15,
   "source": [
    "df"
   ],
   "outputs": [
    {
     "output_type": "execute_result",
     "data": {
      "text/html": [
       "<div>\n",
       "<style scoped>\n",
       "    .dataframe tbody tr th:only-of-type {\n",
       "        vertical-align: middle;\n",
       "    }\n",
       "\n",
       "    .dataframe tbody tr th {\n",
       "        vertical-align: top;\n",
       "    }\n",
       "\n",
       "    .dataframe thead th {\n",
       "        text-align: right;\n",
       "    }\n",
       "</style>\n",
       "<table border=\"1\" class=\"dataframe\">\n",
       "  <thead>\n",
       "    <tr style=\"text-align: right;\">\n",
       "      <th></th>\n",
       "      <th>Rating</th>\n",
       "      <th>Content</th>\n",
       "      <th>Content_с</th>\n",
       "    </tr>\n",
       "  </thead>\n",
       "  <tbody>\n",
       "    <tr>\n",
       "      <th>0</th>\n",
       "      <td>1</td>\n",
       "      <td>It just works!</td>\n",
       "      <td>It just works!</td>\n",
       "    </tr>\n",
       "    <tr>\n",
       "      <th>1</th>\n",
       "      <td>1</td>\n",
       "      <td>В целом удобноное приложение...из минусов хотя...</td>\n",
       "      <td>В целом удобноное приложение...из минусов хотя...</td>\n",
       "    </tr>\n",
       "    <tr>\n",
       "      <th>2</th>\n",
       "      <td>1</td>\n",
       "      <td>Отлично все</td>\n",
       "      <td>Отлично все</td>\n",
       "    </tr>\n",
       "    <tr>\n",
       "      <th>3</th>\n",
       "      <td>1</td>\n",
       "      <td>Стал зависать на 1% работы антивируса. Дальше ...</td>\n",
       "      <td>Стал зависать на 1% работы антивируса. Дальше ...</td>\n",
       "    </tr>\n",
       "    <tr>\n",
       "      <th>4</th>\n",
       "      <td>1</td>\n",
       "      <td>Очень удобно, работает быстро.</td>\n",
       "      <td>Очень удобно, работает быстро.</td>\n",
       "    </tr>\n",
       "    <tr>\n",
       "      <th>...</th>\n",
       "      <td>...</td>\n",
       "      <td>...</td>\n",
       "      <td>...</td>\n",
       "    </tr>\n",
       "    <tr>\n",
       "      <th>20654</th>\n",
       "      <td>0</td>\n",
       "      <td>Ну и шляпа,с роот правами бесполезная прога,ра...</td>\n",
       "      <td>Ну и шляпа,с роот правами бесполезная прога,ра...</td>\n",
       "    </tr>\n",
       "    <tr>\n",
       "      <th>20655</th>\n",
       "      <td>1</td>\n",
       "      <td>Ок</td>\n",
       "      <td>Ок</td>\n",
       "    </tr>\n",
       "    <tr>\n",
       "      <th>20656</th>\n",
       "      <td>1</td>\n",
       "      <td>Доволен</td>\n",
       "      <td>Доволен</td>\n",
       "    </tr>\n",
       "    <tr>\n",
       "      <th>20657</th>\n",
       "      <td>0</td>\n",
       "      <td>Песопаснасть, рут ни нужын</td>\n",
       "      <td>Песопаснасть, рут ни нужын</td>\n",
       "    </tr>\n",
       "    <tr>\n",
       "      <th>20658</th>\n",
       "      <td>1</td>\n",
       "      <td>Сбербанк бомбовая компания на сегодняшний день...</td>\n",
       "      <td>Сбербанк бомбовая компания на сегодняшний день...</td>\n",
       "    </tr>\n",
       "  </tbody>\n",
       "</table>\n",
       "<p>20659 rows × 3 columns</p>\n",
       "</div>"
      ],
      "text/plain": [
       "       Rating                                            Content  \\\n",
       "0           1                                     It just works!   \n",
       "1           1  В целом удобноное приложение...из минусов хотя...   \n",
       "2           1                                        Отлично все   \n",
       "3           1  Стал зависать на 1% работы антивируса. Дальше ...   \n",
       "4           1                     Очень удобно, работает быстро.   \n",
       "...       ...                                                ...   \n",
       "20654       0  Ну и шляпа,с роот правами бесполезная прога,ра...   \n",
       "20655       1                                                 Ок   \n",
       "20656       1                                            Доволен   \n",
       "20657       0                         Песопаснасть, рут ни нужын   \n",
       "20658       1  Сбербанк бомбовая компания на сегодняшний день...   \n",
       "\n",
       "                                               Content_с  \n",
       "0                                         It just works!  \n",
       "1      В целом удобноное приложение...из минусов хотя...  \n",
       "2                                            Отлично все  \n",
       "3      Стал зависать на 1% работы антивируса. Дальше ...  \n",
       "4                         Очень удобно, работает быстро.  \n",
       "...                                                  ...  \n",
       "20654  Ну и шляпа,с роот правами бесполезная прога,ра...  \n",
       "20655                                                 Ок  \n",
       "20656                                            Доволен  \n",
       "20657                         Песопаснасть, рут ни нужын  \n",
       "20658  Сбербанк бомбовая компания на сегодняшний день...  \n",
       "\n",
       "[20659 rows x 3 columns]"
      ]
     },
     "metadata": {},
     "execution_count": 15
    }
   ],
   "metadata": {}
  },
  {
   "cell_type": "code",
   "execution_count": 16,
   "source": [
    "sw = set(get_stop_words(\"ru\"))\n",
    "exclude = set(punctuation)\n",
    "morpher = MorphAnalyzer()\n",
    "\n",
    "def preprocess_text(txt):\n",
    "    txt = str(txt)\n",
    "    # Заменим эмодзи на соответствующие им слова.\n",
    "    txt = re.sub(\"[\\,]\",\"\",txt)\n",
    "    txt = replase_words(txt, emoticon_dict)\n",
    "     # Заменим сокращения на их полные формы\n",
    "    txt = replase_words(txt, apostrophe_dict)\n",
    "    txt = replase_words(txt, short_word_dict)\n",
    "    txt = \"\".join(c for c in txt if c not in exclude)\n",
    "    txt = txt.lower()\n",
    "    txt = re.sub(\"\\sне\", \"не\", txt)\n",
    "    txt = [morpher.parse(word)[0].normal_form for word in txt.split()] # if word not in sw]\n",
    "    # [w for w in text.split() if len(w)>1 and w != \"i\"])\n",
    "    return \" \".join([w for w in txt if len(w)>1])\n",
    "\n",
    "df['Content'] = df['Content'].apply(preprocess_text)"
   ],
   "outputs": [],
   "metadata": {}
  },
  {
   "cell_type": "markdown",
   "source": [
    "После очитски текста, длина части комментариев оказалась равной нулю!"
   ],
   "metadata": {}
  },
  {
   "cell_type": "code",
   "execution_count": 17,
   "source": [
    "df['Text_len'] = [len(text) for text in df['Content']]"
   ],
   "outputs": [],
   "metadata": {}
  },
  {
   "cell_type": "code",
   "execution_count": 18,
   "source": [
    "df.loc[((df['Text_len']==0) & (df['Rating']==0))]"
   ],
   "outputs": [
    {
     "output_type": "execute_result",
     "data": {
      "text/html": [
       "<div>\n",
       "<style scoped>\n",
       "    .dataframe tbody tr th:only-of-type {\n",
       "        vertical-align: middle;\n",
       "    }\n",
       "\n",
       "    .dataframe tbody tr th {\n",
       "        vertical-align: top;\n",
       "    }\n",
       "\n",
       "    .dataframe thead th {\n",
       "        text-align: right;\n",
       "    }\n",
       "</style>\n",
       "<table border=\"1\" class=\"dataframe\">\n",
       "  <thead>\n",
       "    <tr style=\"text-align: right;\">\n",
       "      <th></th>\n",
       "      <th>Rating</th>\n",
       "      <th>Content</th>\n",
       "      <th>Content_с</th>\n",
       "      <th>Text_len</th>\n",
       "    </tr>\n",
       "  </thead>\n",
       "  <tbody>\n",
       "  </tbody>\n",
       "</table>\n",
       "</div>"
      ],
      "text/plain": [
       "Empty DataFrame\n",
       "Columns: [Rating, Content, Content_с, Text_len]\n",
       "Index: []"
      ]
     },
     "metadata": {},
     "execution_count": 18
    }
   ],
   "metadata": {}
  },
  {
   "cell_type": "code",
   "execution_count": 19,
   "source": [
    "df.loc[((df['Text_len']==0) & (df['Rating']==1))]"
   ],
   "outputs": [
    {
     "output_type": "execute_result",
     "data": {
      "text/html": [
       "<div>\n",
       "<style scoped>\n",
       "    .dataframe tbody tr th:only-of-type {\n",
       "        vertical-align: middle;\n",
       "    }\n",
       "\n",
       "    .dataframe tbody tr th {\n",
       "        vertical-align: top;\n",
       "    }\n",
       "\n",
       "    .dataframe thead th {\n",
       "        text-align: right;\n",
       "    }\n",
       "</style>\n",
       "<table border=\"1\" class=\"dataframe\">\n",
       "  <thead>\n",
       "    <tr style=\"text-align: right;\">\n",
       "      <th></th>\n",
       "      <th>Rating</th>\n",
       "      <th>Content</th>\n",
       "      <th>Content_с</th>\n",
       "      <th>Text_len</th>\n",
       "    </tr>\n",
       "  </thead>\n",
       "  <tbody>\n",
       "    <tr>\n",
       "      <th>3080</th>\n",
       "      <td>1</td>\n",
       "      <td></td>\n",
       "      <td>.👍</td>\n",
       "      <td>0</td>\n",
       "    </tr>\n",
       "    <tr>\n",
       "      <th>4083</th>\n",
       "      <td>1</td>\n",
       "      <td></td>\n",
       "      <td>+</td>\n",
       "      <td>0</td>\n",
       "    </tr>\n",
       "    <tr>\n",
       "      <th>7479</th>\n",
       "      <td>1</td>\n",
       "      <td></td>\n",
       "      <td>👍!!!</td>\n",
       "      <td>0</td>\n",
       "    </tr>\n",
       "    <tr>\n",
       "      <th>8724</th>\n",
       "      <td>1</td>\n",
       "      <td></td>\n",
       "      <td>О.</td>\n",
       "      <td>0</td>\n",
       "    </tr>\n",
       "    <tr>\n",
       "      <th>15887</th>\n",
       "      <td>1</td>\n",
       "      <td></td>\n",
       "      <td>N 1</td>\n",
       "      <td>0</td>\n",
       "    </tr>\n",
       "    <tr>\n",
       "      <th>16207</th>\n",
       "      <td>1</td>\n",
       "      <td></td>\n",
       "      <td>во</td>\n",
       "      <td>0</td>\n",
       "    </tr>\n",
       "  </tbody>\n",
       "</table>\n",
       "</div>"
      ],
      "text/plain": [
       "       Rating Content Content_с  Text_len\n",
       "3080        1                .👍         0\n",
       "4083        1                 +         0\n",
       "7479        1              👍!!!         0\n",
       "8724        1                О.         0\n",
       "15887       1               N 1         0\n",
       "16207       1                во         0"
      ]
     },
     "metadata": {},
     "execution_count": 19
    }
   ],
   "metadata": {}
  },
  {
   "cell_type": "code",
   "execution_count": 20,
   "source": [
    "df.loc[(df['Text_len']==0),'Rating'].value_counts() # как быть вот с такими комметариями!"
   ],
   "outputs": [
    {
     "output_type": "execute_result",
     "data": {
      "text/plain": [
       "1    6\n",
       "Name: Rating, dtype: int64"
      ]
     },
     "metadata": {},
     "execution_count": 20
    }
   ],
   "metadata": {}
  },
  {
   "cell_type": "markdown",
   "source": [
    "Можно посмотреть что это были за комментарии и выполнить очитску более аккуратно, чтобы не стереть ничего лишнего."
   ],
   "metadata": {}
  },
  {
   "cell_type": "markdown",
   "source": [
    "Раделим df на ренировочную и тестовую выборки !!! "
   ],
   "metadata": {}
  },
  {
   "cell_type": "code",
   "execution_count": null,
   "source": [],
   "outputs": [],
   "metadata": {}
  },
  {
   "cell_type": "code",
   "execution_count": 21,
   "source": [
    "df_train, df_test = train_test_split(df,test_size=0.3)"
   ],
   "outputs": [],
   "metadata": {}
  },
  {
   "cell_type": "code",
   "execution_count": 22,
   "source": [
    "train_corpus = \" \".join(df_train[\"Content\"])\n",
    "train_corpus = train_corpus.lower()"
   ],
   "outputs": [],
   "metadata": {}
  },
  {
   "cell_type": "code",
   "execution_count": 23,
   "source": [
    "import nltk\n",
    "from nltk.tokenize import word_tokenize\n",
    "nltk.download(\"punkt\")\n",
    "\n",
    "tokens = word_tokenize(train_corpus)"
   ],
   "outputs": [
    {
     "output_type": "stream",
     "name": "stderr",
     "text": [
      "[nltk_data] Downloading package punkt to /home/sergey/nltk_data...\n",
      "[nltk_data]   Package punkt is already up-to-date!\n"
     ]
    }
   ],
   "metadata": {}
  },
  {
   "cell_type": "code",
   "execution_count": 24,
   "source": [
    "tokens_filtered = [word for word in tokens if word.isalnum()]"
   ],
   "outputs": [],
   "metadata": {}
  },
  {
   "cell_type": "markdown",
   "source": [
    "Отфильтруем данные\n",
    "\n",
    "и соберём в корпус N наиболее частых токенов"
   ],
   "metadata": {}
  },
  {
   "cell_type": "code",
   "execution_count": 25,
   "source": [
    "from nltk.probability import FreqDist\n",
    "dist = FreqDist(tokens_filtered)\n",
    "tokens_filtered_top = [pair[0] for pair in dist.most_common(max_words-1)]"
   ],
   "outputs": [],
   "metadata": {}
  },
  {
   "cell_type": "code",
   "execution_count": 26,
   "source": [
    "tokens_filtered_top[:50]"
   ],
   "outputs": [
    {
     "output_type": "execute_result",
     "data": {
      "text/plain": [
       "['приложение',\n",
       " 'всё',\n",
       " 'очень',\n",
       " 'удобно',\n",
       " 'на',\n",
       " 'работать',\n",
       " 'удобный',\n",
       " 'что',\n",
       " 'отлично',\n",
       " 'спасибо',\n",
       " 'хороший',\n",
       " 'нравиться',\n",
       " 'это',\n",
       " 'отличный',\n",
       " 'раз',\n",
       " 'по',\n",
       " 'хорошо',\n",
       " 'после',\n",
       " 'но',\n",
       " 'телефон',\n",
       " 'супер',\n",
       " 'быть',\n",
       " 'мочь',\n",
       " 'за',\n",
       " 'при',\n",
       " 'обновление',\n",
       " 'быстро',\n",
       " 'пароль',\n",
       " 'просто',\n",
       " 'так',\n",
       " 'только',\n",
       " 'не',\n",
       " 'как',\n",
       " 'пользоваться',\n",
       " 'банк',\n",
       " 'антивирус',\n",
       " 'сбербанк',\n",
       " 'вход',\n",
       " 'устраивать',\n",
       " 'вы',\n",
       " 'для',\n",
       " 'карта',\n",
       " 'то',\n",
       " 'пока',\n",
       " 'прошивка',\n",
       " 'свой',\n",
       " 'из',\n",
       " 'весь',\n",
       " 'без',\n",
       " 'рута']"
      ]
     },
     "metadata": {},
     "execution_count": 26
    }
   ],
   "metadata": {}
  },
  {
   "cell_type": "code",
   "execution_count": 27,
   "source": [
    "vocabulary = {v: k for k, v in dict(enumerate(tokens_filtered_top, 1)).items()}"
   ],
   "outputs": [],
   "metadata": {}
  },
  {
   "cell_type": "code",
   "execution_count": 28,
   "source": [
    "import numpy as np\n",
    "\n",
    "def text_to_sequence(text, maxlen):\n",
    "    result = []\n",
    "    tokens = word_tokenize(text.lower())\n",
    "    tokens_filtered = [word for word in tokens if word.isalnum()]\n",
    "    for word in tokens_filtered:\n",
    "        if word in vocabulary:\n",
    "            result.append(vocabulary[word])\n",
    "    padding = [0]*(maxlen-len(result))\n",
    "    return padding + result[-maxlen:]"
   ],
   "outputs": [],
   "metadata": {}
  },
  {
   "cell_type": "code",
   "execution_count": 29,
   "source": [
    "x_train = np.asarray([text_to_sequence(text, max_len) for text in df_train[\"Content\"]], dtype=np.int32)\n",
    "x_test = np.asarray([text_to_sequence(text, max_len) for text in df_test[\"Content\"]], dtype=np.int32)\n",
    "# x_val = np.asarray([text_to_sequence(text, max_len) for text in df_val[\"Content\"]], dtype=np.int32)"
   ],
   "outputs": [],
   "metadata": {}
  },
  {
   "cell_type": "markdown",
   "source": [
    "# Keras model"
   ],
   "metadata": {}
  },
  {
   "cell_type": "code",
   "execution_count": 30,
   "source": [
    "# !pip install keras"
   ],
   "outputs": [],
   "metadata": {}
  },
  {
   "cell_type": "code",
   "execution_count": 31,
   "source": [
    "import numpy as np\n",
    "import tensorflow.keras"
   ],
   "outputs": [],
   "metadata": {}
  },
  {
   "cell_type": "code",
   "execution_count": 32,
   "source": [
    "from tensorflow.keras.models import Sequential, Model\n",
    "from tensorflow.keras.layers import Dense, Dropout, Activation, Input, Embedding, Conv1D, GlobalMaxPool1D"
   ],
   "outputs": [],
   "metadata": {}
  },
  {
   "cell_type": "code",
   "execution_count": 33,
   "source": [
    "from tensorflow.keras.preprocessing.text import Tokenizer\n",
    "from tensorflow.keras.preprocessing.sequence import pad_sequences\n",
    "from tensorflow.keras.callbacks import TensorBoard \n",
    "\n",
    "from tensorflow.keras.callbacks import EarlyStopping  \n",
    "from sklearn.metrics import accuracy_score "
   ],
   "outputs": [],
   "metadata": {}
  },
  {
   "cell_type": "code",
   "execution_count": 70,
   "source": [
    "# from tensorflow.keras.objectives import categorical_crossentropy"
   ],
   "outputs": [],
   "metadata": {}
  },
  {
   "cell_type": "code",
   "execution_count": 112,
   "source": [
    "num_classes = 2\n",
    "y_train = tensorflow.keras.utils.to_categorical(df_train[\"Rating\"], num_classes)\n",
    "y_test = tensorflow.keras.utils.to_categorical(df_test[\"Rating\"], num_classes)"
   ],
   "outputs": [],
   "metadata": {}
  },
  {
   "cell_type": "code",
   "execution_count": 77,
   "source": [
    "# GlobalMaxPool1D?"
   ],
   "outputs": [],
   "metadata": {}
  },
  {
   "cell_type": "code",
   "execution_count": 113,
   "source": [
    "model = Sequential()\n",
    "model.add(Embedding(input_dim=max_words, output_dim=128, input_length=max_len))\n",
    "model.add(Conv1D(128, 3))\n",
    "model.add(Activation(\"relu\"))\n",
    "model.add(GlobalMaxPool1D())\n",
    "model.add(Dense(10))\n",
    "model.add(Activation(\"relu\"))\n",
    "model.add(Dense(num_classes))\n",
    "model.add(Activation('softmax'))"
   ],
   "outputs": [],
   "metadata": {}
  },
  {
   "cell_type": "code",
   "execution_count": 116,
   "source": [
    "model.compile(loss='categorical_crossentropy',\n",
    "              optimizer='adam',\n",
    "              metrics=['accuracy'])"
   ],
   "outputs": [],
   "metadata": {}
  },
  {
   "cell_type": "code",
   "execution_count": 117,
   "source": [
    "tensorboard=TensorBoard(log_dir='./logs', write_graph=True, write_images=True)\n",
    "early_stopping=EarlyStopping(monitor='val_loss')  \n",
    "\n",
    "\n",
    "history = model.fit(x_train, y_train,\n",
    "                    batch_size=batch_size,\n",
    "                    epochs=epochs,\n",
    "                    verbose=1,\n",
    "                    validation_split=0.1,\n",
    "                    callbacks=[tensorboard, early_stopping])"
   ],
   "outputs": [
    {
     "output_type": "stream",
     "name": "stdout",
     "text": [
      "Train on 13014 samples, validate on 1447 samples\n",
      "Epoch 1/20\n",
      "13014/13014 [==============================] - 10s 751us/sample - loss: 0.4806 - acc: 0.8064 - val_loss: 0.3886 - val_acc: 0.8037\n",
      "Epoch 2/20\n",
      "13014/13014 [==============================] - 8s 649us/sample - loss: 0.3216 - acc: 0.8064 - val_loss: 0.2806 - val_acc: 0.8037\n",
      "Epoch 3/20\n",
      "13014/13014 [==============================] - 6s 481us/sample - loss: 0.2488 - acc: 0.8251 - val_loss: 0.2531 - val_acc: 0.8970\n",
      "Epoch 4/20\n",
      "13014/13014 [==============================] - 8s 597us/sample - loss: 0.2263 - acc: 0.9167 - val_loss: 0.2479 - val_acc: 0.8998\n",
      "Epoch 5/20\n",
      "13014/13014 [==============================] - 9s 685us/sample - loss: 0.2148 - acc: 0.9277 - val_loss: 0.2495 - val_acc: 0.8998\n"
     ]
    }
   ],
   "metadata": {}
  },
  {
   "cell_type": "code",
   "execution_count": 118,
   "source": [
    "results = model.predict(x_test, batch_size=batch_size, verbose=1)"
   ],
   "outputs": [
    {
     "output_type": "stream",
     "name": "stdout",
     "text": [
      "6198/6198 [==============================] - 1s 83us/sample\n"
     ]
    }
   ],
   "metadata": {}
  },
  {
   "cell_type": "code",
   "execution_count": 119,
   "source": [
    "y_pred = np.argmax(results,axis = 1)"
   ],
   "outputs": [],
   "metadata": {}
  },
  {
   "cell_type": "code",
   "execution_count": 122,
   "source": [
    "accuracy_score(df_test['Rating'].to_numpy(), y_pred)"
   ],
   "outputs": [
    {
     "output_type": "execute_result",
     "data": {
      "text/plain": [
       "0.9101323007421749"
      ]
     },
     "metadata": {},
     "execution_count": 122
    }
   ],
   "metadata": {}
  },
  {
   "cell_type": "markdown",
   "source": [
    "## Задание 2."
   ],
   "metadata": {}
  },
  {
   "cell_type": "markdown",
   "source": [
    "2.  Рассмотреть 2-а варианта сеточек<br>\n",
    "    2.1 Инициализировать tf.keras.layers.Embedding предобученными векторами взять к примеру с https://rusvectores.org/ru/<br>\n",
    "    2.2 Инициализировать слой tf.keras.layers.Embedding по умолчанию (ну то есть вам ничего не делать с весами)<br>"
   ],
   "metadata": {}
  },
  {
   "cell_type": "markdown",
   "source": [
    "пример классификации текста с помощю библиотеки взят отсюда -- https://github.com/ltgoslo/simple_elmo/blob/master/simple_elmo/examples/text_classification.py"
   ],
   "metadata": {}
  }
 ]
}